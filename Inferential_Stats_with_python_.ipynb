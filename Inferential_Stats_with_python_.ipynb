{
  "nbformat": 4,
  "nbformat_minor": 0,
  "metadata": {
    "colab": {
      "provenance": [],
      "authorship_tag": "ABX9TyPs4DCObSwbpWY3lZMFm2g3",
      "include_colab_link": true
    },
    "kernelspec": {
      "name": "python3",
      "display_name": "Python 3"
    },
    "language_info": {
      "name": "python"
    }
  },
  "cells": [
    {
      "cell_type": "markdown",
      "metadata": {
        "id": "view-in-github",
        "colab_type": "text"
      },
      "source": [
        "<a href=\"https://colab.research.google.com/github/Dipeshgithub1/Statistics-For-Data-Science/blob/main/Inferential_Stats_with_python_.ipynb\" target=\"_parent\"><img src=\"https://colab.research.google.com/assets/colab-badge.svg\" alt=\"Open In Colab\"/></a>"
      ]
    },
    {
      "cell_type": "code",
      "execution_count": null,
      "metadata": {
        "id": "uVhmJ8joyw7T"
      },
      "outputs": [],
      "source": []
    },
    {
      "cell_type": "markdown",
      "source": [
        "Suppose the IQ certain population is normally distribution with a mean 100 and standard deviation of .a reseacher wants know if new drug affect IQ level so he he recuit"
      ],
      "metadata": {
        "id": "3VaW0FW60EbW"
      }
    },
    {
      "cell_type": "code",
      "source": [
        "from statsmodels.stats.weightstats import ztest as ztest\n",
        "# enter IQ level for 20 patients\n",
        "data = [88,92,94,94,96,97,97,97,99,99,105,109,109,109,110,112,112,113,114,115]\n",
        "# Perform one-sample z-test (comparing sample mean to population mean of 100)\n",
        "ztest_score, p_value = ztest(data, value=100)\n",
        "\n",
        "print(\"Z-test statistic:\", ztest_score)\n",
        "print(\"P-value:\", p_value)\n"
      ],
      "metadata": {
        "colab": {
          "base_uri": "https://localhost:8080/"
        },
        "id": "JvWfeN7Y1G6R",
        "outputId": "56f44d70-db23-45a8-f660-3ffc62d78946"
      },
      "execution_count": 3,
      "outputs": [
        {
          "output_type": "stream",
          "name": "stdout",
          "text": [
            "Z-test statistic: 1.5976240527147705\n",
            "P-value: 0.1101266701438426\n"
          ]
        }
      ]
    }
  ]
}